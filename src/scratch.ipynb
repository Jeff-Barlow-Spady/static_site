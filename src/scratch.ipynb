{
 "cells": [
  {
   "cell_type": "code",
   "execution_count": 9,
   "metadata": {},
   "outputs": [],
   "source": [
    "import re\n",
    "\n",
    "def extract_title(markdown):\n",
    "    if markdown is None:\n",
    "        raise ValueError(\"markdown cannot be None\")\n",
    "\n",
    "    header_pattern = re.compile(r'^#\\s.*$', re.MULTILINE)\n",
    "    match = re.findall(header_pattern, markdown)\n",
    "    \n",
    "    if match:\n",
    "        return match[0].lstrip('# ').strip()\n",
    "    else:\n",
    "        return None\n"
   ]
  },
  {
   "cell_type": "code",
   "execution_count": 11,
   "metadata": {},
   "outputs": [
    {
     "data": {
      "text/plain": [
       "'Title'"
      ]
     },
     "execution_count": 11,
     "metadata": {},
     "output_type": "execute_result"
    }
   ],
   "source": [
    "markdown = '''\n",
    "# Title\n",
    "\n",
    "this is some text\n",
    "\n",
    "### this is more text\n",
    "\n",
    "```python\n",
    "print(\"hello world\")\n",
    "``` \n",
    "\n",
    "\n",
    "\n",
    "'''\n",
    "\n",
    "extract_title(markdown)"
   ]
  },
  {
   "cell_type": "code",
   "execution_count": 24,
   "metadata": {},
   "outputs": [],
   "source": [
    "def generate_page(from_path, template_path, dest_path):\n",
    "    print(\"==============================================================================================\")\n",
    "    print(\"=========================================GENERATING PAGE======================================\")\n",
    "    print(f\"===============FROM:{from_path}=========TO:{dest_path}========USING TEMPLATE AT:{template_path}=======\")"
   ]
  },
  {
   "cell_type": "code",
   "execution_count": 25,
   "metadata": {},
   "outputs": [
    {
     "name": "stdout",
     "output_type": "stream",
     "text": [
      "==============================================================================================\n",
      "=========================================GENERATING PAGE======================================\n",
      "===============FROM:test path=========TO:public========USING TEMPLATE AT:great template=======\n"
     ]
    }
   ],
   "source": [
    "generate_page(\"test path\", \"great template\", \"public\")"
   ]
  },
  {
   "cell_type": "code",
   "execution_count": null,
   "metadata": {},
   "outputs": [],
   "source": []
  }
 ],
 "metadata": {
  "kernelspec": {
   "display_name": "Python 3",
   "language": "python",
   "name": "python3"
  },
  "language_info": {
   "codemirror_mode": {
    "name": "ipython",
    "version": 3
   },
   "file_extension": ".py",
   "mimetype": "text/x-python",
   "name": "python",
   "nbconvert_exporter": "python",
   "pygments_lexer": "ipython3",
   "version": "3.12.3"
  }
 },
 "nbformat": 4,
 "nbformat_minor": 2
}
